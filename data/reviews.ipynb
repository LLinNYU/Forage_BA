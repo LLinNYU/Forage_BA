{
 "cells": [
  {
   "cell_type": "code",
   "execution_count": 1,
   "id": "42896dbb",
   "metadata": {},
   "outputs": [],
   "source": [
    "import pandas as pd"
   ]
  },
  {
   "cell_type": "markdown",
   "id": "d6ee43bb",
   "metadata": {},
   "source": [
    "1) Remove everything before the first \"|\" character --> to get the first 1500 reviews\n",
    "2) Sentiment analysis as a score column\n",
    "3) find random rows to sample and check"
   ]
  },
  {
   "cell_type": "code",
   "execution_count": null,
   "id": "1577f840",
   "metadata": {},
   "outputs": [],
   "source": [
    "reviews_df = "
   ]
  }
 ],
 "metadata": {
  "kernelspec": {
   "display_name": "Python 3 (ipykernel)",
   "language": "python",
   "name": "python3"
  },
  "language_info": {
   "codemirror_mode": {
    "name": "ipython",
    "version": 3
   },
   "file_extension": ".py",
   "mimetype": "text/x-python",
   "name": "python",
   "nbconvert_exporter": "python",
   "pygments_lexer": "ipython3",
   "version": "3.11.5"
  }
 },
 "nbformat": 4,
 "nbformat_minor": 5
}
