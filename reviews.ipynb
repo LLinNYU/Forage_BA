{
 "cells": [
  {
   "cell_type": "markdown",
   "id": "4e7fd825",
   "metadata": {},
   "source": [
    "### Citations of all resources explored\n",
    "1) \n",
    "- The Natural Language Toolkit (NLTK) is an open source Python library for Natural Language Processing. A free online book is available. (If you use the library for academic research, please cite the book.)\n",
    "\n",
    "Steven Bird, Ewan Klein, and Edward Loper (2009). Natural Language Processing with Python. O’Reilly Media Inc. https://www.nltk.org/book/\n",
    "\n",
    "- If you use the VADER sentiment analysis tools, please cite:\n",
    "\n",
    "Hutto, C.J. & Gilbert, E.E. (2014). VADER: A Parsimonious Rule-based Model for\n",
    "Sentiment Analysis of Social Media Text. Eighth International Conference on\n",
    "Weblogs and Social Media (ICWSM-14). Ann Arbor, MI, June 2014.\n",
    "https://www.nltk.org/_modules/nltk/sentiment/vader.html\n",
    "\n",
    "https://www.nltk.org/api/nltk.sentiment.vader.html\n",
    "\n",
    "2) \n",
    "https://www.kaggle.com/code/satishgunjal/tokenization-in-nlp\n",
    "\n",
    "3) \n",
    "ChatGPT 3.5 for how to use NLP techniques and libraries\n",
    "\n",
    "4) \n",
    "Spacy\n",
    "https://course.spacy.io/en/chapter2 \n",
    "https://spacy.io/models\n",
    "https://spacy.io/usage/linguistic-features#named-entities"
   ]
  },
  {
   "cell_type": "code",
   "execution_count": 1,
   "id": "6124395b",
   "metadata": {},
   "outputs": [],
   "source": [
    "import pandas as pd"
   ]
  },
  {
   "cell_type": "markdown",
   "id": "8cd09f7f",
   "metadata": {},
   "source": [
    "1) Overview of data\n",
    "2) remove NaNs from reviews column (first column is necessarily non-empty)\n",
    "3) Remove everything before the first \"|\" character --> to get the first 1500 reviews\n",
    "4) Sentiment analysis as a score column\n",
    "5) find significant phrases in each review \n",
    "6) find random rows to sample and check\n",
    "7) \n"
   ]
  },
  {
   "cell_type": "code",
   "execution_count": 2,
   "id": "6c1b8623",
   "metadata": {},
   "outputs": [],
   "source": [
    "reviews_df = pd.read_csv(\"data/BA_reviews.csv\")"
   ]
  },
  {
   "cell_type": "code",
   "execution_count": 3,
   "id": "db8c792e",
   "metadata": {
    "scrolled": false
   },
   "outputs": [
    {
     "data": {
      "text/html": [
       "<div>\n",
       "<style scoped>\n",
       "    .dataframe tbody tr th:only-of-type {\n",
       "        vertical-align: middle;\n",
       "    }\n",
       "\n",
       "    .dataframe tbody tr th {\n",
       "        vertical-align: top;\n",
       "    }\n",
       "\n",
       "    .dataframe thead th {\n",
       "        text-align: right;\n",
       "    }\n",
       "</style>\n",
       "<table border=\"1\" class=\"dataframe\">\n",
       "  <thead>\n",
       "    <tr style=\"text-align: right;\">\n",
       "      <th></th>\n",
       "      <th>Unnamed: 0</th>\n",
       "      <th>reviews</th>\n",
       "    </tr>\n",
       "  </thead>\n",
       "  <tbody>\n",
       "    <tr>\n",
       "      <th>0</th>\n",
       "      <td>0</td>\n",
       "      <td>✅ Trip Verified |  For the price paid (bought ...</td>\n",
       "    </tr>\n",
       "    <tr>\n",
       "      <th>1</th>\n",
       "      <td>1</td>\n",
       "      <td>✅ Trip Verified |  Flight left on time and arr...</td>\n",
       "    </tr>\n",
       "    <tr>\n",
       "      <th>2</th>\n",
       "      <td>2</td>\n",
       "      <td>✅ Trip Verified |  Very Poor Business class pr...</td>\n",
       "    </tr>\n",
       "    <tr>\n",
       "      <th>3</th>\n",
       "      <td>3</td>\n",
       "      <td>Not Verified | This review is for LHR-SYD-LHR....</td>\n",
       "    </tr>\n",
       "    <tr>\n",
       "      <th>4</th>\n",
       "      <td>4</td>\n",
       "      <td>✅ Trip Verified | Absolutely pathetic business...</td>\n",
       "    </tr>\n",
       "  </tbody>\n",
       "</table>\n",
       "</div>"
      ],
      "text/plain": [
       "   Unnamed: 0                                            reviews\n",
       "0           0  ✅ Trip Verified |  For the price paid (bought ...\n",
       "1           1  ✅ Trip Verified |  Flight left on time and arr...\n",
       "2           2  ✅ Trip Verified |  Very Poor Business class pr...\n",
       "3           3  Not Verified | This review is for LHR-SYD-LHR....\n",
       "4           4  ✅ Trip Verified | Absolutely pathetic business..."
      ]
     },
     "execution_count": 3,
     "metadata": {},
     "output_type": "execute_result"
    }
   ],
   "source": [
    "reviews_df.head()"
   ]
  },
  {
   "cell_type": "code",
   "execution_count": 4,
   "id": "b9a6fc54",
   "metadata": {
    "scrolled": true
   },
   "outputs": [],
   "source": [
    "reviews_df.shape\n",
    "reviews_df = reviews_df.dropna(subset = ['reviews'])"
   ]
  },
  {
   "cell_type": "code",
   "execution_count": 5,
   "id": "a9cb4330",
   "metadata": {
    "scrolled": false
   },
   "outputs": [
    {
     "data": {
      "text/plain": [
       "'✅ Trip Verified |  For the price paid (bought during a sale) it was a decent experience although the club class (business class) seats offer no more legroom than economy class (using short-haul fleet on a 4 hour flight). Fast track through security was not honoured. The lounge at Istanbul airport was over-crowded as it is also open to the public who can pay for usage, causing a long queue for entry , which was badly organised. Boarding was smooth, cabin crew were friendly but their service was hit-and-miss. Eg. Some people got a “welcome” and some didn’t; Half of the cabin was automatically offered coffee after dinner but not the other half. However, drinks were replenished generously and regularly and the meal was good (with a choice of three mains from the menu).'"
      ]
     },
     "execution_count": 5,
     "metadata": {},
     "output_type": "execute_result"
    }
   ],
   "source": [
    "#csv file created on Dec 29 2023\n",
    "reviews_df.iloc[0,1]"
   ]
  },
  {
   "cell_type": "code",
   "execution_count": 6,
   "id": "d18a5f48",
   "metadata": {
    "scrolled": true
   },
   "outputs": [],
   "source": [
    "#Let's only include verified reviews\n",
    "verified_df = reviews_df[reviews_df.iloc[:,1].str.contains(\"Trip Verified\")]"
   ]
  },
  {
   "cell_type": "code",
   "execution_count": 7,
   "id": "be65dca7",
   "metadata": {
    "scrolled": false
   },
   "outputs": [
    {
     "data": {
      "text/html": [
       "<div>\n",
       "<style scoped>\n",
       "    .dataframe tbody tr th:only-of-type {\n",
       "        vertical-align: middle;\n",
       "    }\n",
       "\n",
       "    .dataframe tbody tr th {\n",
       "        vertical-align: top;\n",
       "    }\n",
       "\n",
       "    .dataframe thead th {\n",
       "        text-align: right;\n",
       "    }\n",
       "</style>\n",
       "<table border=\"1\" class=\"dataframe\">\n",
       "  <thead>\n",
       "    <tr style=\"text-align: right;\">\n",
       "      <th></th>\n",
       "      <th>Unnamed: 0</th>\n",
       "      <th>reviews</th>\n",
       "    </tr>\n",
       "  </thead>\n",
       "  <tbody>\n",
       "    <tr>\n",
       "      <th>0</th>\n",
       "      <td>0</td>\n",
       "      <td>✅ Trip Verified |  For the price paid (bought ...</td>\n",
       "    </tr>\n",
       "    <tr>\n",
       "      <th>1</th>\n",
       "      <td>1</td>\n",
       "      <td>✅ Trip Verified |  Flight left on time and arr...</td>\n",
       "    </tr>\n",
       "    <tr>\n",
       "      <th>2</th>\n",
       "      <td>2</td>\n",
       "      <td>✅ Trip Verified |  Very Poor Business class pr...</td>\n",
       "    </tr>\n",
       "    <tr>\n",
       "      <th>4</th>\n",
       "      <td>4</td>\n",
       "      <td>✅ Trip Verified | Absolutely pathetic business...</td>\n",
       "    </tr>\n",
       "    <tr>\n",
       "      <th>6</th>\n",
       "      <td>6</td>\n",
       "      <td>✅ Trip Verified | This was our first flight wi...</td>\n",
       "    </tr>\n",
       "  </tbody>\n",
       "</table>\n",
       "</div>"
      ],
      "text/plain": [
       "   Unnamed: 0                                            reviews\n",
       "0           0  ✅ Trip Verified |  For the price paid (bought ...\n",
       "1           1  ✅ Trip Verified |  Flight left on time and arr...\n",
       "2           2  ✅ Trip Verified |  Very Poor Business class pr...\n",
       "4           4  ✅ Trip Verified | Absolutely pathetic business...\n",
       "6           6  ✅ Trip Verified | This was our first flight wi..."
      ]
     },
     "execution_count": 7,
     "metadata": {},
     "output_type": "execute_result"
    }
   ],
   "source": [
    "verified_df.head()"
   ]
  },
  {
   "cell_type": "code",
   "execution_count": 8,
   "id": "acd30585",
   "metadata": {
    "scrolled": true
   },
   "outputs": [],
   "source": [
    "verified_df.loc[:,'reviews'] = verified_df.loc[:,'reviews'].apply(lambda x: x[18:])"
   ]
  },
  {
   "cell_type": "code",
   "execution_count": 9,
   "id": "fd82dd67",
   "metadata": {},
   "outputs": [
    {
     "data": {
      "text/html": [
       "<div>\n",
       "<style scoped>\n",
       "    .dataframe tbody tr th:only-of-type {\n",
       "        vertical-align: middle;\n",
       "    }\n",
       "\n",
       "    .dataframe tbody tr th {\n",
       "        vertical-align: top;\n",
       "    }\n",
       "\n",
       "    .dataframe thead th {\n",
       "        text-align: right;\n",
       "    }\n",
       "</style>\n",
       "<table border=\"1\" class=\"dataframe\">\n",
       "  <thead>\n",
       "    <tr style=\"text-align: right;\">\n",
       "      <th></th>\n",
       "      <th>Unnamed: 0</th>\n",
       "      <th>reviews</th>\n",
       "    </tr>\n",
       "  </thead>\n",
       "  <tbody>\n",
       "    <tr>\n",
       "      <th>0</th>\n",
       "      <td>0</td>\n",
       "      <td>For the price paid (bought during a sale) it ...</td>\n",
       "    </tr>\n",
       "    <tr>\n",
       "      <th>1</th>\n",
       "      <td>1</td>\n",
       "      <td>Flight left on time and arrived over half an ...</td>\n",
       "    </tr>\n",
       "    <tr>\n",
       "      <th>2</th>\n",
       "      <td>2</td>\n",
       "      <td>Very Poor Business class product, BA is not e...</td>\n",
       "    </tr>\n",
       "    <tr>\n",
       "      <th>4</th>\n",
       "      <td>4</td>\n",
       "      <td>Absolutely pathetic business class product. BA...</td>\n",
       "    </tr>\n",
       "    <tr>\n",
       "      <th>6</th>\n",
       "      <td>6</td>\n",
       "      <td>This was our first flight with British Airways...</td>\n",
       "    </tr>\n",
       "  </tbody>\n",
       "</table>\n",
       "</div>"
      ],
      "text/plain": [
       "   Unnamed: 0                                            reviews\n",
       "0           0   For the price paid (bought during a sale) it ...\n",
       "1           1   Flight left on time and arrived over half an ...\n",
       "2           2   Very Poor Business class product, BA is not e...\n",
       "4           4  Absolutely pathetic business class product. BA...\n",
       "6           6  This was our first flight with British Airways..."
      ]
     },
     "execution_count": 9,
     "metadata": {},
     "output_type": "execute_result"
    }
   ],
   "source": [
    "verified_df.head()"
   ]
  },
  {
   "cell_type": "code",
   "execution_count": 10,
   "id": "71955c50",
   "metadata": {},
   "outputs": [
    {
     "data": {
      "text/plain": [
       "(1174, 2)"
      ]
     },
     "execution_count": 10,
     "metadata": {},
     "output_type": "execute_result"
    }
   ],
   "source": [
    "verified_df.shape"
   ]
  },
  {
   "cell_type": "markdown",
   "id": "43d84e51",
   "metadata": {},
   "source": [
    "Need to break down each review:\n",
    "- probably not necessary: ChatGPT mentions to exclude stopwords (such as \"and\", \"the\", \"is\", etc.)\n",
    "- identify product features and adjectives mentioned in each review\n",
    "- identify negative words (for example: \"not happy\" as opposed to \"not\" and \"happy\" separately\n",
    "- catgeorize each review as positive, neutral, negative"
   ]
  },
  {
   "cell_type": "code",
   "execution_count": 11,
   "id": "4336fb22",
   "metadata": {},
   "outputs": [],
   "source": [
    "# !pip install spacy\n",
    "import spacy\n",
    "#https://spacy.io/models\n",
    "# !python -m spacy download en_core_web_md\n",
    "\n",
    "nlp = spacy.load(\"en_core_web_md\")"
   ]
  },
  {
   "cell_type": "code",
   "execution_count": 12,
   "id": "25ecdfa9",
   "metadata": {
    "scrolled": true
   },
   "outputs": [],
   "source": [
    "# It occurred to me that the stopwords are actually significant and spacy excludes some meaningful words\n",
    "\n",
    "# from tqdm import tqdm\n",
    "\n",
    "# non_stopwords = []\n",
    "\n",
    "# # https://spacy.io/api/token#section-attributes\n",
    "# for i in tqdm(range(len(verified_df.iloc[:,1])), desc = \"looking through reviews\"):\n",
    "#     doc = nlp(str(verified_df.iloc[i,1]))\n",
    "#     non_stopwords.append([token.text for token in doc if (token.is_alpha and not token.is_stop)])\n",
    "\n",
    "# verified_df['removed_stopwords'] = non_stopwords\n",
    "# verified_df.loc[0,:]"
   ]
  },
  {
   "cell_type": "code",
   "execution_count": 13,
   "id": "74eac56a",
   "metadata": {
    "scrolled": true
   },
   "outputs": [],
   "source": [
    "# from tqdm import tqdm\n",
    "\n",
    "# # https://spacy.io/api/token#section-attributes\n",
    "\n",
    "# review_tokens = []\n",
    "\n",
    "# for i in tqdm(range(len(verified_df.iloc[:,1])), desc = \"looking through reviews\"):\n",
    "#     doc = nlp(str(verified_df.iloc[i,1]))\n",
    "#     review_tokens.append([token.text for token in doc if token.is_alpha])\n",
    "\n",
    "# verified_df['review_tokens'] = review_tokens\n",
    "# verified_df.loc[0,:]"
   ]
  },
  {
   "cell_type": "code",
   "execution_count": 14,
   "id": "86f7e773",
   "metadata": {
    "scrolled": true
   },
   "outputs": [
    {
     "name": "stderr",
     "output_type": "stream",
     "text": [
      "looking through reviews: 100%|██████████████| 1174/1174 [00:31<00:00, 37.79it/s]\n",
      "/var/folders/0c/pl12gpjs6p5d_8ms8kj8gyh80000gn/T/ipykernel_1493/1987914935.py:18: SettingWithCopyWarning: \n",
      "A value is trying to be set on a copy of a slice from a DataFrame.\n",
      "Try using .loc[row_indexer,col_indexer] = value instead\n",
      "\n",
      "See the caveats in the documentation: https://pandas.pydata.org/pandas-docs/stable/user_guide/indexing.html#returning-a-view-versus-a-copy\n",
      "  verified_df['review_tokens'] = review_tokens\n",
      "/var/folders/0c/pl12gpjs6p5d_8ms8kj8gyh80000gn/T/ipykernel_1493/1987914935.py:19: SettingWithCopyWarning: \n",
      "A value is trying to be set on a copy of a slice from a DataFrame.\n",
      "Try using .loc[row_indexer,col_indexer] = value instead\n",
      "\n",
      "See the caveats in the documentation: https://pandas.pydata.org/pandas-docs/stable/user_guide/indexing.html#returning-a-view-versus-a-copy\n",
      "  verified_df['key_phrases'] = key_phrases\n"
     ]
    }
   ],
   "source": [
    "# ok so I see nltk already has tokenize which is way faster than what I had earlier\n",
    "# https://www.nltk.org/api/nltk.tokenize.html\n",
    "# this cell gathers the features of interest\n",
    "# I think I do actually need to determine negations in words to grab key terms\n",
    "# https://spacy.io/usage/linguistic-features#named-entities provides convenient usage in code\n",
    "import nltk\n",
    "# nltk.download('punkt')\n",
    "\n",
    "from nltk.tokenize import word_tokenize\n",
    "from tqdm import tqdm\n",
    "\n",
    "review_tokens = []\n",
    "key_phrases = []\n",
    "\n",
    "for i in tqdm(range(len(verified_df.loc[:,'reviews'])), desc = \"looking through reviews\"):\n",
    "    review_tokens.append(nltk.tokenize.word_tokenize(str(verified_df.iloc[i,1]), language='english', preserve_line=False))\n",
    "    key_phrases.append([chunk.text for chunk in nlp(verified_df.iloc[i,1]).noun_chunks or chunk.pos_ == \"ADJ\" or chunk.pos_ == \"ADV\"])\n",
    "verified_df['review_tokens'] = review_tokens\n",
    "verified_df['key_phrases'] = key_phrases"
   ]
  },
  {
   "cell_type": "code",
   "execution_count": 15,
   "id": "7aa5629e",
   "metadata": {},
   "outputs": [
    {
     "data": {
      "text/plain": [
       "Unnamed: 0                                                       0\n",
       "reviews           For the price paid (bought during a sale) it ...\n",
       "review_tokens    [For, the, price, paid, (, bought, during, a, ...\n",
       "key_phrases      [the price, a sale, it, a decent experience, b...\n",
       "Name: 0, dtype: object"
      ]
     },
     "execution_count": 15,
     "metadata": {},
     "output_type": "execute_result"
    }
   ],
   "source": [
    "verified_df.loc[0,:]"
   ]
  },
  {
   "cell_type": "code",
   "execution_count": 16,
   "id": "1c97324c",
   "metadata": {
    "scrolled": true
   },
   "outputs": [
    {
     "name": "stderr",
     "output_type": "stream",
     "text": [
      "determining review connotations: 100%|████| 1174/1174 [00:00<00:00, 1856.67it/s]\n",
      "/var/folders/0c/pl12gpjs6p5d_8ms8kj8gyh80000gn/T/ipykernel_1493/1968453563.py:14: SettingWithCopyWarning: \n",
      "A value is trying to be set on a copy of a slice from a DataFrame.\n",
      "Try using .loc[row_indexer,col_indexer] = value instead\n",
      "\n",
      "See the caveats in the documentation: https://pandas.pydata.org/pandas-docs/stable/user_guide/indexing.html#returning-a-view-versus-a-copy\n",
      "  verified_df['review_polarity'] = review_polarity\n"
     ]
    }
   ],
   "source": [
    "# this cell calculates overall sentiment\n",
    "import nltk\n",
    "# nltk.download('vader_lexicon')\n",
    "from nltk.sentiment import SentimentIntensityAnalyzer\n",
    "from tqdm import tqdm\n",
    "\n",
    "sia = SentimentIntensityAnalyzer()\n",
    "\n",
    "review_polarity = []\n",
    "\n",
    "for i in tqdm(range(len(verified_df.loc[:,'reviews'])), desc = \"determining review connotations\"):\n",
    "    review_polarity.append(sia.polarity_scores(str(verified_df.iloc[i,1])))\n",
    "\n",
    "verified_df['review_polarity'] = review_polarity"
   ]
  },
  {
   "cell_type": "code",
   "execution_count": 17,
   "id": "b3d8a4e0",
   "metadata": {},
   "outputs": [],
   "source": [
    "# verified_df.to_csv('verified_df.csv') # for better visibility"
   ]
  },
  {
   "cell_type": "code",
   "execution_count": 18,
   "id": "89558af8",
   "metadata": {},
   "outputs": [],
   "source": [
    "# The polarity is off and key concepts aren't being captured... "
   ]
  },
  {
   "cell_type": "code",
   "execution_count": 21,
   "id": "6286341d",
   "metadata": {},
   "outputs": [],
   "source": [
    "verified_df_keywords = verified_df[[verified_df.columns[0],verified_df.columns[3],verified_df.columns[4]]]\n",
    "verified_df_keywords.to_csv('verified_df_keywords.csv') # outputs\n",
    "# I already see a an obviously negative review being considered positive --> I'll try a different package"
   ]
  },
  {
   "cell_type": "code",
   "execution_count": null,
   "id": "50cc779a",
   "metadata": {},
   "outputs": [],
   "source": []
  }
 ],
 "metadata": {
  "kernelspec": {
   "display_name": "Python 3 (ipykernel)",
   "language": "python",
   "name": "python3"
  },
  "language_info": {
   "codemirror_mode": {
    "name": "ipython",
    "version": 3
   },
   "file_extension": ".py",
   "mimetype": "text/x-python",
   "name": "python",
   "nbconvert_exporter": "python",
   "pygments_lexer": "ipython3",
   "version": "3.11.5"
  }
 },
 "nbformat": 4,
 "nbformat_minor": 5
}
