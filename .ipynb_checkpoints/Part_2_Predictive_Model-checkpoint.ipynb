{
 "cells": [
  {
   "cell_type": "markdown",
   "id": "801c1bcf",
   "metadata": {},
   "source": [
    "The outcome is a binary classification. Prompt suggests RandomForest to identify most predictive variables."
   ]
  },
  {
   "cell_type": "code",
   "execution_count": 2,
   "id": "14a5e8f9",
   "metadata": {},
   "outputs": [],
   "source": [
    "import pandas as pd\n",
    "df = pd.read_csv(\"./data/customer_booking.csv\", encoding=\"ISO-8859-1\")\n",
    "df = df.dropna()"
   ]
  },
  {
   "cell_type": "code",
   "execution_count": null,
   "id": "0e46e21f",
   "metadata": {
    "scrolled": true
   },
   "outputs": [],
   "source": [
    "from sklearn.model_selection import KFold\n",
    "from sklearn.ensemble import RandomForestClassifier\n",
    "from sklearn.preprocessing import OneHotEncoder\n",
    "from sklearn.metrics import f1_score, roc_curve, auc, roc_auc_score\n",
    "import pandas as pd\n",
    "import matplotlib.pyplot as plt\n",
    "\n",
    "predictors = df.columns[:-1]\n",
    "k = 5\n",
    "\n",
    "kF = KFold(n_splits = k, shuffle = True)\n",
    "clf = RandomForestClassifier()\n",
    "enc = OneHotEncoder(sparse_output = False)\n",
    "\n",
    "categorical = ['sales_channel',\n",
    "                    'trip_type',\n",
    "                    'flight_day',\n",
    "                    'route',\n",
    "                    'booking_origin']\n",
    "\n",
    "x = df.drop(columns = ['booking_complete'])\n",
    "# print(x.shape)\n",
    "\n",
    "# using one-hot encoding for the categorical variables, and creating post encoded df\n",
    "x_enc = enc.fit_transform(x[categorical])\n",
    "x_enc_df = pd.DataFrame(x_enc, columns = enc.get_feature_names_out(categorical))\n",
    "df_post_enc = pd.concat([x.drop(columns = categorical), x_enc_df,df['booking_complete']], axis = 1)\n",
    "\n",
    "#need to rename the target variable after processing with one-hot encoding\n",
    "df_post_enc.rename(columns = {0:'booking_complete'},inplace = True)\n",
    "df_post_enc = df_post_enc.fillna('-1')\n",
    "\n",
    "i=0\n",
    "for train_index,test_index in kF.split(df_post_enc):\n",
    "    \n",
    "    train = df_post_enc.iloc[train_index]\n",
    "    test = df_post_enc.iloc[test_index]\n",
    "    \n",
    "    y_train = train['booking_complete']\n",
    "    x_train = train.drop(columns = ['booking_complete'])\n",
    "    \n",
    "    y_test = test['booking_complete']\n",
    "    x_test = test.drop(columns = ['booking_complete'])\n",
    "    \n",
    "    clf.fit(x_train,y_train)\n",
    "    \n",
    "    feature_importance = sorted(list(zip(x_train.columns,clf.feature_importances_)),\n",
    "                                key = lambda x: x[1], reverse = True)\n",
    "    print(\"Most impactful features in descending order:\", feature_importance[:5])\n",
    "    print(f\"Fold {i+1} accuracy:\",clf.score(x_test,y_test))\n",
    "    print(\"F1 score:\",f1_score(y_test,clf.predict(x_test)))\n",
    "    i += 1\n",
    "    \n",
    "    fpr, tpr, thresholds = roc_curve(y_test,clf.predict_proba(x_test)[:,1])\n",
    "    auroc = auc(fpr,tpr)\n",
    "    \n",
    "    plt.plot(fpr,tpr,color = 'orange')\n",
    "    plt.plot([0,1],[0,1],color = 'grey', linestyle = \"--\")\n",
    "    plt.show()\n"
   ]
  },
  {
   "cell_type": "code",
   "execution_count": null,
   "id": "2a225587",
   "metadata": {},
   "outputs": [],
   "source": []
  }
 ],
 "metadata": {
  "kernelspec": {
   "display_name": "Python 3 (ipykernel)",
   "language": "python",
   "name": "python3"
  },
  "language_info": {
   "codemirror_mode": {
    "name": "ipython",
    "version": 3
   },
   "file_extension": ".py",
   "mimetype": "text/x-python",
   "name": "python",
   "nbconvert_exporter": "python",
   "pygments_lexer": "ipython3",
   "version": "3.11.5"
  }
 },
 "nbformat": 4,
 "nbformat_minor": 5
}
