{
 "cells": [
  {
   "cell_type": "markdown",
   "id": "03f40255",
   "metadata": {},
   "source": [
    "https://www.nltk.org/howto/sentiment.html"
   ]
  },
  {
   "cell_type": "code",
   "execution_count": 59,
   "id": "6166d78a",
   "metadata": {},
   "outputs": [],
   "source": [
    "import pandas as pd\n",
    "reviews_df = pd.read_csv(\"data/BA_reviews.csv\")\n",
    "\n",
    "# data and structure overview\n",
    "# reviews_df.head()\n",
    "# reviews_df.shape\n",
    "\n",
    "# drop empty reviews\n",
    "reviews_df = reviews_df.dropna(subset = ['reviews'])\n",
    "\n",
    "# reviews_df.iloc[0,1]\n",
    "\n",
    "#Let's only include verified reviews\n",
    "verified_df = reviews_df[reviews_df.iloc[:,1].str.contains(\"Trip Verified\")]\n",
    "# verified_df.shape\n",
    "\n",
    "#remove the verified\n",
    "verified_df.loc[:,'reviews'] = verified_df.loc[:,'reviews'].apply(lambda x: x[18:])\n",
    "# verified_df.head()"
   ]
  },
  {
   "cell_type": "code",
   "execution_count": 64,
   "id": "9a0f82d2",
   "metadata": {},
   "outputs": [],
   "source": [
    "# Idea: tokenize the words, add negations to negative words so that it is more obvious to the nlp libaries\n",
    "import nltk\n",
    "from nltk.tokenize import word_tokenize #I don't know if I need to tokenize??\n",
    "from nltk.sentiment import SentimentIntensityAnalyzer\n",
    "from tqdm import tqdm\n",
    "# nltk.download('punkt')\n",
    "\n",
    "sia = SentimentIntensityAnalyzer()"
   ]
  },
  {
   "cell_type": "code",
   "execution_count": 65,
   "id": "899c197c",
   "metadata": {},
   "outputs": [],
   "source": [
    "#I think VADER SIA just doesn't have many words so I'll need to add some\n",
    "# nevermind, it doesn't seem to help much\n",
    "# new_words = {\n",
    "#     'had no choice' : -1.0,\n",
    "#     'poor product' : -2.0,\n",
    "#     'WORST' : -3.5,\n",
    "#     'pleasant' : 0.75,\n",
    "#     'pleasantly' : 0.75,\n",
    "#     'cramped' : -2.0,\n",
    "#     'nothing' : -0.1,\n",
    "#     'delicious' : 3.0,\n",
    "#     'not nice' : -2.0,\n",
    "#     'very nice' : 2.0,\n",
    "# }\n",
    "\n",
    "# sia.lexicon.update(new_words)"
   ]
  },
  {
   "cell_type": "code",
   "execution_count": 66,
   "id": "e3d802d0",
   "metadata": {
    "scrolled": false
   },
   "outputs": [
    {
     "name": "stderr",
     "output_type": "stream",
     "text": [
      "looking through reviews: 100%|████████████| 1174/1174 [00:00<00:00, 1749.48it/s]\n",
      "/var/folders/0c/pl12gpjs6p5d_8ms8kj8gyh80000gn/T/ipykernel_2442/3030781915.py:9: SettingWithCopyWarning: \n",
      "A value is trying to be set on a copy of a slice from a DataFrame.\n",
      "Try using .loc[row_indexer,col_indexer] = value instead\n",
      "\n",
      "See the caveats in the documentation: https://pandas.pydata.org/pandas-docs/stable/user_guide/indexing.html#returning-a-view-versus-a-copy\n",
      "  verified_df['sentiments'] = sentiments\n"
     ]
    }
   ],
   "source": [
    "#### Using NLTK's VADER SIA\n",
    "# the magnitude of positive ones are very high here\n",
    "sentiments = []\n",
    "\n",
    "for i in tqdm(range(len(verified_df.loc[:,'reviews'])), desc = \"looking through reviews\"):\n",
    "    sentiment_score = sia.polarity_scores(verified_df.iloc[i,1])['compound']\n",
    "    sentiments.append(sentiment_score)\n",
    "    \n",
    "verified_df['sentiments'] = sentiments"
   ]
  },
  {
   "cell_type": "code",
   "execution_count": 67,
   "id": "8e796f75",
   "metadata": {},
   "outputs": [
    {
     "name": "stderr",
     "output_type": "stream",
     "text": [
      "looking through reviews: 100%|████████████| 1174/1174 [00:00<00:00, 3081.85it/s]\n",
      "/var/folders/0c/pl12gpjs6p5d_8ms8kj8gyh80000gn/T/ipykernel_2442/3110969340.py:11: SettingWithCopyWarning: \n",
      "A value is trying to be set on a copy of a slice from a DataFrame.\n",
      "Try using .loc[row_indexer,col_indexer] = value instead\n",
      "\n",
      "See the caveats in the documentation: https://pandas.pydata.org/pandas-docs/stable/user_guide/indexing.html#returning-a-view-versus-a-copy\n",
      "  verified_df['sentiments'] = sentiments\n"
     ]
    }
   ],
   "source": [
    "#### Using textblob\n",
    "# the magnitude of each ine is closer to 0 than most\n",
    "from textblob import TextBlob\n",
    "\n",
    "sentiments = []\n",
    "\n",
    "for i in tqdm(range(len(verified_df.loc[:,'reviews'])), desc = \"looking through reviews\"):\n",
    "    blob = TextBlob(verified_df.iloc[i,1])\n",
    "    sentiment_score = blob.sentiment.polarity\n",
    "    sentiments.append(sentiment_score)\n",
    "    \n",
    "verified_df['sentiments'] = sentiments"
   ]
  },
  {
   "cell_type": "code",
   "execution_count": 77,
   "id": "f2e92376",
   "metadata": {},
   "outputs": [
    {
     "name": "stderr",
     "output_type": "stream",
     "text": [
      "looking through reviews: 100%|██████████████| 1174/1174 [00:30<00:00, 38.10it/s]\n",
      "/var/folders/0c/pl12gpjs6p5d_8ms8kj8gyh80000gn/T/ipykernel_2442/2256275947.py:17: SettingWithCopyWarning: \n",
      "A value is trying to be set on a copy of a slice from a DataFrame.\n",
      "Try using .loc[row_indexer,col_indexer] = value instead\n",
      "\n",
      "See the caveats in the documentation: https://pandas.pydata.org/pandas-docs/stable/user_guide/indexing.html#returning-a-view-versus-a-copy\n",
      "  verified_df['sentiments'] = sentiments\n"
     ]
    }
   ],
   "source": [
    "#### Using spacy\n",
    "# significantly slower and keeps giving me 0\n",
    "import spacy\n",
    "# !python -m spacy download en_core_web_lg\n",
    "# !python -m spacy download en_core_web_trf\n",
    "\n",
    "nlp = spacy.load(\"en_core_web_lg\")\n",
    "\n",
    "sentiments = []\n",
    "\n",
    "for i in tqdm(range(len(verified_df.loc[:,'reviews'])), desc = \"looking through reviews\"):\n",
    "    doc = nlp(str(verified_df.iloc[i,1]))\n",
    "    sentiment_score = doc.sentiment\n",
    "    sentiments.append(sentiment_score)\n",
    "    \n",
    "verified_df['sentiments'] = sentiments"
   ]
  },
  {
   "cell_type": "code",
   "execution_count": 78,
   "id": "c305bf6a",
   "metadata": {},
   "outputs": [
    {
     "name": "stdout",
     "output_type": "stream",
     "text": [
      " For the price paid (bought during a sale) it was a decent experience although the club class (business class) seats offer no more legroom than economy class (using short-haul fleet on a 4 hour flight). Fast track through security was not honoured. The lounge at Istanbul airport was over-crowded as it is also open to the public who can pay for usage, causing a long queue for entry , which was badly organised. Boarding was smooth, cabin crew were friendly but their service was hit-and-miss. Eg. Some people got a “welcome” and some didn’t; Half of the cabin was automatically offered coffee after dinner but not the other half. However, drinks were replenished generously and regularly and the meal was good (with a choice of three mains from the menu). 0.0\n",
      " Flight left on time and arrived over half an hour earlier than scheduled (thanks to strong tail winds). The flight was full but no catering had been loaded for economy passenger at Heathrow so for 3 and a half hours we only had a small bottle of water and a small packet of corn snacks. Nothing at all available to even buy to eat! Worse than a low-cost carrier experience in this sense. One of the light panels overhead the seats towards the back of the plan was broken and loose and just hanging above the unfortunate passenger's head for the whole flight (poor maintenance of cabin). I would choose another airline on this route in the future, as one of their competitors offers full meal service on this route even in the economy cabin. 0.0\n",
      " Very Poor Business class product, BA is not even close to the other airline leaders. Which ever way they sell the seat on a 777 it is a 2-4-2 layout. The cabin feels and is very cramped. The food in business class is economy quality just served in a china dish! However, the price of course is at premier levels. The only positive of the whole fight and return were the cabin crew who were fantastic. I felt genuinely sorry for them having to try and flog such a poor product. Would I fly BA business again? only if their were no other options and I had no choice. 0.0\n",
      "Absolutely pathetic business class product. BA is not even remotely competitive with other International airlines in the business class market. With old outdated 8 across seating - no, I did not make a typing mistake - you either have to climb across someone or someone has to climb across you to gain aisle access. The crew must also hate this layout since they have to reach through little window openings to provide service to passengers in the 2 center seats. BA, like most other European-based airlines does not have a factual Intra-European business class product even though they promote & sell business class. Intra-Europe flights feature the same 3+3 seating throughout the aircraft & the only difference being the middle seat is left empty in \"business class\" & passengers get a meal & drinks, but this does not justify the higher cost. BA's Trans-Atlantic business class product is only slightly better because of the \"narrow\" 8 across seating. The biggest surprise on both the LIS/LHR & LHR/IAH flights was that BA has, in fact, substantially improved their food quality. Shocking! Unfortunately, it is served in the WORST business class configurations of ANY International airline I have flown. The entertainment  system & small screens - my laptop screen is twice the size - is like an airline offering 2 decades ago. The flight crew was \"pleasant & perfunctory\" which is about the best one can expect from a BA crew. BA will simply never match the quality of carriers like Singapore, Emirates, Qatar, Etihad, EVA, ANA, Japan, Air New Zealand, Qantas or many others. BA can compete with US-based airlines like Delta, American & United, which are also not even in the same Universe in terms of a high-quality business class product. One of the biggest slaps in the face is that BA expects business class passengers to pay to select seats, even though they have paid thousands of dollars to fly business class. Several hundred US dollars for Trans-Atlantic flights. Only if you wait until 24 hours before flight time are you allowed to select a seat at no cost. Certainly another BA Management decision that was made without a functioning brain. 0.0\n",
      "This was our first flight with British Airways in over 13 years and as usual I couldn’t fault them. As we were connecting, we had little interaction with ground staff - staff in the lounge were friendly and helpful. Cabin crew on the flight were great - very welcoming and friendly. Our meals were delicious & no shortage of drinks being offered. The seats were economy seats with the middle row blocked off and some recline. We arrived into Stockholm a little early through a snow shower which was a nice welcome back to Stockholm. Bags (checked in at JFK) were delivered safely within 20 mins of arriving. 0.0\n"
     ]
    }
   ],
   "source": [
    "verified_df.head()\n",
    "for i in range(5):\n",
    "    print(verified_df.iloc[i,1],verified_df.iloc[i,2])"
   ]
  },
  {
   "cell_type": "code",
   "execution_count": null,
   "id": "031e7f0c",
   "metadata": {},
   "outputs": [],
   "source": []
  },
  {
   "cell_type": "code",
   "execution_count": null,
   "id": "5f12f440",
   "metadata": {},
   "outputs": [],
   "source": []
  }
 ],
 "metadata": {
  "kernelspec": {
   "display_name": "Python 3 (ipykernel)",
   "language": "python",
   "name": "python3"
  },
  "language_info": {
   "codemirror_mode": {
    "name": "ipython",
    "version": 3
   },
   "file_extension": ".py",
   "mimetype": "text/x-python",
   "name": "python",
   "nbconvert_exporter": "python",
   "pygments_lexer": "ipython3",
   "version": "3.11.5"
  }
 },
 "nbformat": 4,
 "nbformat_minor": 5
}
