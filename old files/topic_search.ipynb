{
 "cells": [
  {
   "cell_type": "markdown",
   "id": "d95eea10",
   "metadata": {},
   "source": [
    "Instead of being reliant on the packages, perhaps I need to give the topics for the models to figure out the connotations"
   ]
  },
  {
   "cell_type": "code",
   "execution_count": 8,
   "id": "833d955d",
   "metadata": {},
   "outputs": [],
   "source": [
    "import pandas as pd\n",
    "import numpy as np\n",
    "reviews_df = pd.read_csv(\"data/BA_reviews.csv\")\n",
    "\n",
    "# data and structure overview\n",
    "# reviews_df.head()\n",
    "# reviews_df.shape\n",
    "\n",
    "# drop empty reviews\n",
    "reviews_df = reviews_df.dropna(subset = ['reviews'])\n",
    "\n",
    "# reviews_df.iloc[0,1]\n",
    "\n",
    "#Let's only include verified reviews\n",
    "verified_df = reviews_df[reviews_df.iloc[:,1].str.contains(\"Trip Verified\")]\n",
    "# verified_df.shape\n",
    "\n",
    "#remove the verified\n",
    "verified_df.loc[:,'reviews'] = verified_df.loc[:,'reviews'].apply(lambda x: x[18:])\n",
    "# verified_df.head()"
   ]
  },
  {
   "cell_type": "code",
   "execution_count": 9,
   "id": "968e2894",
   "metadata": {},
   "outputs": [
    {
     "name": "stderr",
     "output_type": "stream",
     "text": [
      "looking through reviews: 100%|████████████| 1174/1174 [00:00<00:00, 2027.25it/s]\n",
      "/var/folders/0c/pl12gpjs6p5d_8ms8kj8gyh80000gn/T/ipykernel_4615/3502818940.py:13: SettingWithCopyWarning: \n",
      "A value is trying to be set on a copy of a slice from a DataFrame.\n",
      "Try using .loc[row_indexer,col_indexer] = value instead\n",
      "\n",
      "See the caveats in the documentation: https://pandas.pydata.org/pandas-docs/stable/user_guide/indexing.html#returning-a-view-versus-a-copy\n",
      "  verified_df['tokens'] = review_tokens\n"
     ]
    }
   ],
   "source": [
    "# tokenization\n",
    "# !pip install transformers\n",
    "# nltk.download('punkt')\n",
    "# from nltk.tokenize import sent_tokenize, word_tokenize\n",
    "# from tqdm import tqdm\n",
    "\n",
    "# review_tokens = []\n",
    "\n",
    "# for i in tqdm(range(len(verified_df.loc[:,'reviews'])), desc = \"looking through reviews\"):\n",
    "#     review = sent_tokenize(verified_df.iloc[i,1])\n",
    "#     review_tokens.append([word_tokenize(t) for t in review])\n",
    "    \n",
    "# verified_df['tokens'] = review_tokens"
   ]
  },
  {
   "cell_type": "code",
   "execution_count": 11,
   "id": "66ea34ca",
   "metadata": {},
   "outputs": [],
   "source": [
    "# manually adding features such that it will be easier for the models\n",
    "airline_features = ['cleanliness', 'food', 'price', 'spacious', 'speed', 'staff', 'class']\n",
    "verified_df.loc[:,airline_features] = np.nan"
   ]
  },
  {
   "cell_type": "code",
   "execution_count": 20,
   "id": "b78d8e20",
   "metadata": {},
   "outputs": [
    {
     "name": "stderr",
     "output_type": "stream",
     "text": [
      "looking through reviews: 100%|██████████████| 1174/1174 [00:30<00:00, 38.18it/s]\n",
      "/var/folders/0c/pl12gpjs6p5d_8ms8kj8gyh80000gn/T/ipykernel_4615/83636937.py:12: SettingWithCopyWarning: \n",
      "A value is trying to be set on a copy of a slice from a DataFrame.\n",
      "Try using .loc[row_indexer,col_indexer] = value instead\n",
      "\n",
      "See the caveats in the documentation: https://pandas.pydata.org/pandas-docs/stable/user_guide/indexing.html#returning-a-view-versus-a-copy\n",
      "  verified_df['key_features'] = key_features\n"
     ]
    }
   ],
   "source": [
    "import spacy \n",
    "# from tqdm import tqdm\n",
    "\n",
    "key_features = []\n",
    "nlp = spacy.load(\"en_core_web_lg\")\n",
    "\n",
    "for i in tqdm(range(len(verified_df.loc[:,'reviews'])), desc = \"looking through reviews\"):\n",
    "    doc = nlp(verified_df.iloc[i,1])\n",
    "    features = [ent.text for ent in doc.ents]\n",
    "    key_features.append(features)\n",
    "\n",
    "verified_df['key_features'] = key_features"
   ]
  },
  {
   "cell_type": "code",
   "execution_count": 21,
   "id": "a9fa2c83",
   "metadata": {},
   "outputs": [
    {
     "name": "stdout",
     "output_type": "stream",
     "text": [
      "0 ['4 hour', 'Istanbul', 'Half', 'three']\n",
      "1 ['over half an hour earlier', 'Heathrow', '3 and a half hours', 'One']\n",
      "2 ['BA', '777', '2', 'china']\n",
      "4 ['International', '8', '2', 'European', 'Intra-European', 'Intra-Europe', '3', 'BA', 'Trans-Atlantic', '8', 'the LIS/LHR & LHR', 'IAH', 'BA', '2 decades ago', 'BA', 'BA', 'Singapore', 'Emirates', 'Qatar', 'Etihad', 'EVA', 'ANA', 'Japan', 'Air New Zealand', 'Qantas', 'US', 'Delta', 'American & United', 'Universe', 'One', 'BA', 'thousands of dollars', 'Several hundred US dollars', 'Trans-Atlantic', '24 hours', 'BA Management']\n",
      "6 ['first', 'British Airways', 'over 13 years', 'Stockholm', 'Stockholm', 'JFK', '20 mins']\n"
     ]
    }
   ],
   "source": [
    "verified_df.head()\n",
    "# https://spacy.io/usage/spacy-101\n",
    "for i in range(5):\n",
    "    print(verified_df.iloc[i,0],verified_df.iloc[i,-1])\n"
   ]
  },
  {
   "cell_type": "code",
   "execution_count": null,
   "id": "41b3d7bf",
   "metadata": {},
   "outputs": [],
   "source": []
  }
 ],
 "metadata": {
  "kernelspec": {
   "display_name": "Python 3 (ipykernel)",
   "language": "python",
   "name": "python3"
  },
  "language_info": {
   "codemirror_mode": {
    "name": "ipython",
    "version": 3
   },
   "file_extension": ".py",
   "mimetype": "text/x-python",
   "name": "python",
   "nbconvert_exporter": "python",
   "pygments_lexer": "ipython3",
   "version": "3.11.5"
  }
 },
 "nbformat": 4,
 "nbformat_minor": 5
}
